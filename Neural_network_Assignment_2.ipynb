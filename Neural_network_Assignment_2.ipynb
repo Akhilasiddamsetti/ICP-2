{
  "nbformat": 4,
  "nbformat_minor": 0,
  "metadata": {
    "colab": {
      "provenance": []
    },
    "kernelspec": {
      "name": "python3",
      "display_name": "Python 3"
    },
    "language_info": {
      "name": "python"
    }
  },
  "cells": [
    {
      "cell_type": "code",
      "execution_count": 17,
      "metadata": {
        "colab": {
          "base_uri": "https://localhost:8080/"
        },
        "id": "jmVwONEV79UM",
        "outputId": "ceebd769-2be0-4200-86d3-344e25699987"
      },
      "outputs": [
        {
          "output_type": "stream",
          "name": "stdout",
          "text": [
            "Enter your first name: Akhila\n",
            "Enter your last name: Siddamsetti\n",
            "Full Name: Akhila Siddamsetti\n",
            "Alternate Characters: Ahl idmet\n"
          ]
        }
      ],
      "source": [
        "#Task -1 Part-1\n",
        "def fullname(first_name, last_name):\n",
        "    full_name = first_name + \" \" + last_name\n",
        "    return full_name\n",
        "\n",
        "#Part-2\n",
        "def string_alternative(full_name):\n",
        "    alternate_chars = full_name[::2]\n",
        "    return alternate_chars\n",
        "\n",
        "def main():\n",
        "    first_name = input(\"Enter your first name: \")\n",
        "    last_name = input(\"Enter your last name: \")\n",
        "    full_name = fullname(first_name, last_name)\n",
        "    print(\"Full Name:\", full_name)\n",
        "\n",
        "    alternate_string = string_alternative(full_name)\n",
        "    print(\"Alternate Characters:\", alternate_string)\n",
        "\n",
        "if __name__ == \"__main__\":\n",
        "    main()\n",
        "\n"
      ]
    },
    {
      "cell_type": "code",
      "source": [
        "def count_words(line):\n",
        "    \"\"\"Count occurrences of each word in a given line.\"\"\"\n",
        "    word_count = {}\n",
        "    words = line.split()\n",
        "\n",
        "    for word in words:\n",
        "        if word in word_count:\n",
        "            word_count[word] += 1\n",
        "        else:\n",
        "            word_count[word] = 1\n",
        "\n",
        "    return word_count\n",
        "\n",
        "def main():\n",
        "    input_filename = \"input.txt\"\n",
        "    output_filename = \"output.txt\"\n",
        "\n",
        "    try:\n",
        "        with open(input_filename, 'r') as input_file:\n",
        "            lines = input_file.readlines()\n",
        "\n",
        "        with open(output_filename, 'w') as output_file:\n",
        "            for line in lines:\n",
        "                line = line.strip()\n",
        "                if line:\n",
        "                    output_file.write(line + '\\n')\n",
        "                    output_file.write(\"Word_Count:\\n\")\n",
        "\n",
        "                    word_count = count_words(line)\n",
        "                    for word, count in word_count.items():\n",
        "                        output_file.write(f\"{word}: {count}\\n\")\n",
        "\n",
        "                    output_file.write('\\n')\n",
        "\n",
        "        print(f\"Word count for each line has been written to {output_filename}\")\n",
        "\n",
        "    except FileNotFoundError:\n",
        "        print(f\"Error: File '{input_filename}' not found.\")\n",
        "\n",
        "if __name__ == \"__main__\":\n",
        "    main()\n"
      ],
      "metadata": {
        "colab": {
          "base_uri": "https://localhost:8080/"
        },
        "id": "1a3FK9AM9nw-",
        "outputId": "26a4e81e-6c1a-4a40-860a-15b54c4e59ed"
      },
      "execution_count": 16,
      "outputs": [
        {
          "output_type": "stream",
          "name": "stdout",
          "text": [
            "Word count for each line has been written to output.txt\n"
          ]
        }
      ]
    },
    {
      "cell_type": "code",
      "source": [
        "#Task -3 Part-1\n",
        "def convert_heights_nested(heights_inches):\n",
        "    heights_cm = []\n",
        "    for height in heights_inches:\n",
        "        height_cm = height * 2.54\n",
        "        heights_cm.append(height_cm)\n",
        "    return heights_cm\n",
        "\n",
        "def main_nested():\n",
        "    heights_inches = []\n",
        "    num_customers = int(input(\"Enter the number of customers: \"))\n",
        "\n",
        "    for i in range(num_customers):\n",
        "        height_inches = float(input(f\"Enter height of customer {i+1} (in inches): \"))\n",
        "        heights_inches.append(height_inches)\n",
        "\n",
        "    heights_cm = convert_heights_nested(heights_inches)\n",
        "\n",
        "    print(\"Heights in Centimeters (using nested interactive loop):\")\n",
        "    for cm in heights_cm:\n",
        "        print(f\"{cm:.2f}\")\n",
        "\n",
        "if __name__ == \"__main__\":\n",
        "    main_nested()\n"
      ],
      "metadata": {
        "colab": {
          "base_uri": "https://localhost:8080/"
        },
        "id": "-YRQa-pZHweY",
        "outputId": "65e5cd84-b3a8-453e-95b4-35eebc45a5c7"
      },
      "execution_count": 21,
      "outputs": [
        {
          "output_type": "stream",
          "name": "stdout",
          "text": [
            "Enter the number of customers: 3\n",
            "Enter height of customer 1 (in inches): 143\n",
            "Enter height of customer 2 (in inches): 166\n",
            "Enter height of customer 3 (in inches): 145\n",
            "Heights in Centimeters (using nested interactive loop):\n",
            "363.22\n",
            "421.64\n",
            "368.30\n"
          ]
        }
      ]
    },
    {
      "cell_type": "code",
      "source": [
        "#Part-2\n",
        "def convert_heights_comprehension(heights_inches):\n",
        "    return [height * 2.54 for height in heights_inches]\n",
        "\n",
        "def main_comprehension():\n",
        "    num_customers = int(input(\"Enter the number of customers: \"))\n",
        "    heights_inches = [float(input(f\"Enter height of customer {i+1} (in inches): \")) for i in range(num_customers)]\n",
        "\n",
        "    heights_cm = convert_heights_comprehension(heights_inches)\n",
        "\n",
        "    print(\"Heights in Centimeters (using list comprehension):\")\n",
        "    for cm in heights_cm:\n",
        "        print(f\"{cm:.2f}\")\n",
        "\n",
        "if __name__ == \"__main__\":\n",
        "    main_comprehension()\n"
      ],
      "metadata": {
        "colab": {
          "base_uri": "https://localhost:8080/"
        },
        "id": "pZ9vzS9KIpy9",
        "outputId": "5a680491-444d-4f7c-956b-d986d0b06bbf"
      },
      "execution_count": 22,
      "outputs": [
        {
          "output_type": "stream",
          "name": "stdout",
          "text": [
            "Enter the number of customers: 4\n",
            "Enter height of customer 1 (in inches): 154\n",
            "Enter height of customer 2 (in inches): 145\n",
            "Enter height of customer 3 (in inches): 167\n",
            "Enter height of customer 4 (in inches): 148\n",
            "Heights in Centimeters (using list comprehension):\n",
            "391.16\n",
            "368.30\n",
            "424.18\n",
            "375.92\n"
          ]
        }
      ]
    }
  ]
}